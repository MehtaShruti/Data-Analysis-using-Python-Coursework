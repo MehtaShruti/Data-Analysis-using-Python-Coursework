{
 "cells": [
  {
   "cell_type": "markdown",
   "metadata": {},
   "source": [
    "## MIDTERM EXAM"
   ]
  },
  {
   "cell_type": "markdown",
   "metadata": {},
   "source": [
    "### Question 1 : It is  focused on the enron email analysis, which basically revolved around the two main people involved in the scandal, Kenneth Lay and Jeffrey Skilling. "
   ]
  },
  {
   "cell_type": "markdown",
   "metadata": {},
   "source": [
    "**ANALYSIS I**:\n",
    "\n",
    "This analysis is performed to analyse the emails Kenneth Lay received other than the business conversations.\n",
    "Such as the events he attended and advertisements emails he has received. We have analysed the the *notes_inbox* folder\n",
    "out of all the emails"
   ]
  },
  {
   "cell_type": "code",
   "execution_count": 6,
   "metadata": {
    "collapsed": true
   },
   "outputs": [],
   "source": [
    "from email.parser import Parser #importing the libraries\n",
    "import os,csv\n",
    "from collections import Counter\n",
    "import nltk\n",
    "from nltk.tokenize import word_tokenize\n",
    "from nltk.corpus import stopwords"
   ]
  },
  {
   "cell_type": "code",
   "execution_count": 68,
   "metadata": {
    "collapsed": false
   },
   "outputs": [],
   "source": [
    "path='../../midterm/data/enron/maildir/lay-k/notes_inbox/'\n",
    "with open('NotesList.csv','w')as csvfile:\n",
    "    fieldnames=['Sender','Subject','Date-Time','Content','Frequency'] #dictwriter to write a dict to a csv\n",
    "    writer=csv.DictWriter(csvfile,fieldnames=fieldnames)\n",
    "    writer.writeheader()\n",
    "    for root,dirs,files in os.walk(path):\n",
    "        for f in files:\n",
    "            new_list=[]\n",
    "            wordsbody_list=[]\n",
    "            with open(os.path.join(root,f),'r',encoding='utf-8',errors='ignore') as file:\n",
    "                data=file.read()\n",
    "                email=Parser().parsestr(data) # use parser to get the content out of the emails\n",
    "                email_body=email.get_payload() \n",
    "                words= word_tokenize(email_body)\n",
    "                useful_words = [word  for word in words if word not in stopwords.words('English')]\n",
    "                for wording in useful_words:\n",
    "                    if wording.isalpha():\n",
    "                        wordsbody_list.append(wording)\n",
    "                new_list=Counter(wordsbody_list).most_common(3)\n",
    "\n",
    "                        # a_words=frequency_w.most_common(50)\n",
    "                writer.writerow({'Sender':email['x-from'],'Subject':email['subject'],'Date-Time':email['Date'],'Content':email.get_payload(),'Frequency':new_list})\n",
    "    "
   ]
  },
  {
   "cell_type": "markdown",
   "metadata": {},
   "source": [
    "!['title'](img/NotesList.png)"
   ]
  },
  {
   "cell_type": "markdown",
   "metadata": {
    "collapsed": false
   },
   "source": [
    "**ANALYSIS 2**:\n",
    "\n",
    "**PART I** : This analysis is performed on *Jeffrey Skilling* to analyse the number of emails he has sent and received over the\n",
    "period of time (Represented as : Day > Number of emails on that day of week, see graph)\n",
    "\n",
    "**PART II**: In this analysis, we have analysed people interacting with Skilling on the weekends\n",
    "\n",
    "**PART III**: This analysis helps us finding out the list of people outside ENRON, who have been communicating with Jeffrey along\n",
    "with the email ids. This data is stored as a csv file"
   ]
  },
  {
   "cell_type": "markdown",
   "metadata": {},
   "source": [
    "**ANALYSIS 2 PART I**"
   ]
  },
  {
   "cell_type": "code",
   "execution_count": 8,
   "metadata": {
    "collapsed": false
   },
   "outputs": [
    {
     "data": {
      "image/png": "[encoded data removed]",
      "text/plain": [
       "<matplotlib.figure.Figure at 0x10ec4c0f0>"
      ]
     },
     "metadata": {},
     "output_type": "display_data"
    }
   ],
   "source": [
    "import datetime\n",
    "import matplotlib.pyplot as plt\n",
    "count=0\n",
    "count_emails_wd=0\n",
    "days=['Sun','Mon','Tue','Wed','Thu','Fri','Sat']\n",
    "dic_day_emails={}\n",
    "\n",
    "path='../../midterm/data/enron/maildir/skilling-j/'\n",
    "for subdir, dirs, files in os.walk(path):\n",
    "       for file in files:\n",
    "            with open(os.path.join(subdir,file),'r',encoding='utf-8',errors='ignore') as f1:\n",
    "                data1=f1.read()\n",
    "            email1=Parser().parsestr(data1)\n",
    "            date=email1[\"Date\"]\n",
    "            day=date[:3]\n",
    "            for day in days:\n",
    "                if day in date: #checking the emails of that day for skilling\n",
    "                    if day not in dic_day_emails:\n",
    "                        dic_day_emails[day]=1\n",
    "                    else:\n",
    "                        dic_day_emails[day]+=1\n",
    "\n",
    "dayslist=[]\n",
    "dayslist=dic_day_emails.keys()\n",
    "valueslist=[]\n",
    "valueslist=dic_day_emails.values()\n",
    "plt.bar(range(len(dic_day_emails)),dic_day_emails.values(),align='center')\n",
    "plt.xticks(range(len(dic_day_emails)), list(dic_day_emails.keys()))\n",
    "plt.grid(True)\n",
    "plt.title(\"Number of emails per week for 'Skilling J'\")\n",
    "plt.xlabel(\"Days of week------>\")\n",
    "plt.ylabel(\"Number of emails sent and received------->\")\n",
    "plt.show()"
   ]
  },
  {
   "cell_type": "markdown",
   "metadata": {},
   "source": [
    "**ANALYSIS 2 PART II**"
   ]
  },
  {
   "cell_type": "code",
   "execution_count": 7,
   "metadata": {
    "collapsed": false,
    "scrolled": false
   },
   "outputs": [],
   "source": [
    "import datetime\n",
    "import matplotlib.pyplot as plt\n",
    "path_dest='Question1'\n",
    "days=['Sat','Sun']\n",
    "weekend_emails={}\n",
    "people_list=[]\n",
    "new_list=[]\n",
    "weekend_emails['Sat']=[]\n",
    "weekend_emails['Sun']=[]\n",
    "list_of_people=[]\n",
    "path='../../Midterm/data/enron/maildir/skilling-j'\n",
    "for subdir, dirs, files in os.walk(path):\n",
    "       for file in files:\n",
    "            with open(os.path.join(subdir,file),'r',encoding='utf-8',errors='ignore') as f1:\n",
    "                data1=f1.read()\n",
    "            email1=Parser().parsestr(data1)\n",
    "            date=email1[\"Date\"]\n",
    "            day=date[:3] #getting the first three characters of the day \n",
    "            if day=='Sat':\n",
    "                if day in date:\n",
    "                    if email1['from']: # getting the email ids of all the people received emails from\n",
    "                        email1_from=email1['from']\n",
    "                        email1_from=email1_from.replace(\"\\n\",\"\")\n",
    "                        email1_from =email1_from.replace(\"\\t\", \"\")\n",
    "                        email1_from = email1_from.replace(\" \", \"\")\n",
    "                        email1_from = email1_from.split(\",\")\n",
    "                        weekend_emails['Sat'].append(email1_from)\n",
    "            if day=='Sun':\n",
    "                if day in date:\n",
    "\n",
    "                    if email1['from']:\n",
    "                        email1_from=email1['from']\n",
    "                        email1_from=email1_from.replace(\"\\n\",\"\")\n",
    "                        email1_from =email1_from.replace(\"\\t\", \"\")\n",
    "                        email1_from = email1_from.replace(\" \", \"\")\n",
    "                        email1_from = email1_from.split(\",\")\n",
    "                        people_list.append(email1_from)\n",
    "                        weekend_emails['Sun'].append(email1_from)\n",
    "new_dict={}\n",
    "new_dict['Sat']=[]\n",
    "new_dict['Sun']=[]\n",
    "temp_dict={}\n",
    "temp_dict['Sun']=[]\n",
    "final_list=[]\n",
    "for i in range(len(weekend_emails['Sun'])):\n",
    "    for j in range(len(weekend_emails['Sun'][i])):\n",
    "        temp_dict['Sun'].append(weekend_emails['Sun'][i][j])\n",
    "for i in range(len(weekend_emails['Sat'])):\n",
    "    if(weekend_emails['Sat'][i][0] not in new_dict['Sat']):\n",
    "        new_dict['Sat'].append(weekend_emails['Sat'][i][0])\n",
    "for i in range(len(temp_dict['Sun'])):\n",
    "    if(temp_dict['Sun'][i] not in new_dict['Sun']):\n",
    "        new_dict['Sun'].append(temp_dict['Sun'][i])\n",
    "\n",
    "\n",
    "\n",
    "with open('weekend.csv',\"w\")as f:\n",
    "    f.write('List of people working on the weekends:\\n\\n\\n****************\\n\\n')\n",
    "    for k,v in new_dict.items():\n",
    "        list_of_people.extend(v)\n",
    "        uniq_list=set(list_of_people)\n",
    "        for word in uniq_list:\n",
    "            f.write(word)\n",
    "            f.write(\"\\n\")   "
   ]
  },
  {
   "cell_type": "markdown",
   "metadata": {},
   "source": [
    "!['title'](img/weekend.png)"
   ]
  },
  {
   "cell_type": "markdown",
   "metadata": {},
   "source": [
    "**ANALYSIS 2 PART III**"
   ]
  },
  {
   "cell_type": "code",
   "execution_count": 32,
   "metadata": {
    "collapsed": false
   },
   "outputs": [],
   "source": [
    "import csv,re\n",
    "path='/Users/shrutimehta/Desktop/Python/Midterm/data/enron/maildir/lay-k'\n",
    "list_en=[]\n",
    "list_diff=[]\n",
    "list_diff_names=[]\n",
    "e_list=[]\n",
    "new=[]\n",
    "for subdir, dirs, files in os.walk(path):\n",
    "       for file in files:\n",
    "            with open(os.path.join(subdir,file),'r',encoding='utf-8',errors='ignore') as f1:\n",
    "                data1=f1.read()\n",
    "            email1=Parser().parsestr(data1)\n",
    "            if email1['to']:\n",
    "                e1=email1['X-to'].split(',')\n",
    "                e2=email1['to'].split(',')\n",
    "                e3=[]\n",
    "                for k in e2:   \n",
    "                    k=k.replace('\\n',\"\")\n",
    "                    k=k.replace(\"\\t\",\"\")\n",
    "                    e3.append(k)\n",
    "\n",
    "                for i in range(len(e3)):\n",
    "                    e_list.append((e1[i],e3[i]))\n",
    "for j in range(len(e_list)):\n",
    "    if not e_list[j][1].endswith('enron.com'):\n",
    "        new.append(e_list[j])       \n",
    "csvfile=open('CompaniesList.csv', 'w',newline=\"\")#open the csvfile\n",
    "writer=csv.writer(csvfile)  #write the csv file using writer\n",
    "writer.writerow(['Person Name','E-mail IDs']) #writer to write the row\n",
    "for words in new:\n",
    "    writer.writerow(words) #write the header\n",
    "csvfile.close()#close the file                                      "
   ]
  },
  {
   "cell_type": "markdown",
   "metadata": {},
   "source": [
    "!['title'](img/companieslist.png)"
   ]
  },
  {
   "cell_type": "markdown",
   "metadata": {
    "collapsed": false
   },
   "source": [
    "**ANALYSIS 3**\n",
    "\n",
    "**PART I **: In this analysis, we have extracted the list of the people who have ever been into contact with Kenneth Lay in all the communication he has had in and outside Enron. We have stored the list of people he has received emails from in *from_email_list.txt*, sent emails to in *to_email_list.txt* and the text of his emails in the file *email_body.txt*.\n",
    "\n",
    "**PART II** : from the list of people he has communicated with, further analysis is done on the most common people has has sent emails to and received from \n",
    "\n",
    "**PART III**: the last analysis is performed to measure the frequency of the words he has used in the conversation of the emails\n",
    "\n"
   ]
  },
  {
   "cell_type": "markdown",
   "metadata": {},
   "source": [
    "**ANALYSIS 3 PART I**"
   ]
  },
  {
   "cell_type": "code",
   "execution_count": 344,
   "metadata": {
    "collapsed": false
   },
   "outputs": [],
   "source": [
    "import os\n",
    "from collections import Counter\n",
    "from email.parser import Parser\n",
    "rootdir = \"/Users/shrutimehta/Desktop/Python/Midterm/data/enron/maildir/lay-k\"\n",
    "path_to_folder=\"/Users/shrutimehta/Desktop/Python/Midterm/Question1/Ques1_Analysis1\""
   ]
  },
  {
   "cell_type": "code",
   "execution_count": 348,
   "metadata": {
    "collapsed": false
   },
   "outputs": [],
   "source": [
    "def email_text(inputfile, to_email_list, from_email_list, email_body):\n",
    "    with open(inputfile, \"r\",encoding='utf-8',errors='ignore') as f:\n",
    "        data = f.read()\n",
    "\n",
    "    email = Parser().parsestr(data)\n",
    "    \n",
    "    if email['to']:\n",
    "        email_to=email['to']\n",
    "        email_to=email_to.replace(\"\\n\",\"\")\n",
    "        email_to =email_to.replace(\"\\t\", \"\")\n",
    "        email_to = email_to.replace(\" \", \"\")\n",
    "        email_to = email_to.split(\",\")\n",
    "\n",
    "\n",
    "        for email_to_1 in email_to:\n",
    "            to_email_list.append(email_to_1)\n",
    "      \n",
    "    from_email_list.append(email['from'])\n",
    "    email_body.append(email.get_payload())\n",
    "    \n",
    "to_email_list=[]\n",
    "from_email_list=[]\n",
    "email_body=[]\n",
    "\n",
    "for directory,subdir,files in os.walk(rootdir):\n",
    "    for file in files:\n",
    "        email_text(os.path.join(directory, file), to_email_list, from_email_list, email_body)\n",
    "path1=os.path.join(path_to_folder,'to_email_list.txt')            \n",
    "with open(path1,\"w\")as f:\n",
    "    f.write('The emails were written to these ids:\\n\\n\\n****************\\n\\n')\n",
    "    for to_email in to_email_list:\n",
    "        if to_email:\n",
    "            f.write(to_email)\n",
    "            f.write(\"\\n\")\n",
    "path2=os.path.join(path_to_folder,'from_email_list.txt')                           \n",
    "with open(path2,\"w\")as f:\n",
    "    f.write('The emails were received from these ids:\\n\\n\\n****************\\n\\n')\n",
    "    for from_email in from_email_list:\n",
    "        if from_email:\n",
    "            f.write(from_email)\n",
    "            f.write(\"\\n\")\n",
    "                   \n",
    "path3=os.path.join(path_to_folder,'email_body.txt')                   \n",
    "with open(path3,\"w\")as f:\n",
    "    f.write('The content of the emails is :\\n\\n\\n****************\\n\\n')\n",
    "    for bod_email in email_body:\n",
    "        if bod_email:\n",
    "            f.write(bod_email)\n",
    "            f.write(\"\\n\")"
   ]
  },
  {
   "cell_type": "markdown",
   "metadata": {},
   "source": [
    "!['title'](img/samplefrom.png)"
   ]
  },
  {
   "cell_type": "markdown",
   "metadata": {},
   "source": [
    "**ANALYSIS 3 PART II**"
   ]
  },
  {
   "cell_type": "code",
   "execution_count": 678,
   "metadata": {
    "collapsed": false
   },
   "outputs": [],
   "source": [
    "a=Counter(to_email_list).most_common(10)\n",
    "b=Counter(from_email_list).most_common(10)\n",
    "csvfile=open('ToEmailsCommonK.csv', 'w',newline=\"\")#open the csvfile\n",
    "writer=csv.writer(csvfile)  #write the csv file using writer\n",
    "writer.writerow(['Most Common People Emails sent to','Count'])\n",
    "for word in a:\n",
    "    writer.writerow([word[0],word[1]]) #write the header\n",
    "writer.writerow(['Most Common People Emails received from','Count']) #writer to write the row\n",
    "for word in b:\n",
    "    writer.writerow([word[0],word[1]])\n",
    "csvfile.close()"
   ]
  },
  {
   "cell_type": "markdown",
   "metadata": {},
   "source": [
    "!['title'](img/mostcommon.png)"
   ]
  },
  {
   "cell_type": "markdown",
   "metadata": {},
   "source": [
    "**ANALYSIS 3 PART III**"
   ]
  },
  {
   "cell_type": "code",
   "execution_count": 679,
   "metadata": {
    "collapsed": true
   },
   "outputs": [],
   "source": [
    "path='/Users/shrutimehta/Desktop/Python/Midterm/Question1/Ques1_Analysis1/email_body.txt'\n",
    "punc=[]\n",
    "wordslist=[]\n",
    "with open(path, \"r\") as f:\n",
    "    data = f.read()\n",
    "words= word_tokenize(data)\n",
    "useful_words = [word  for word in words if word not in stopwords.words('English')]\n",
    "for word in useful_words:\n",
    "    if word.isalpha():\n",
    "        wordslist.append(word)\n",
    "    else:\n",
    "        punc.append(word)\n",
    "frequency_w = nltk.FreqDist(wordslist)\n",
    "frequency_p=  nltk.FreqDist(punc)\n",
    "a_words=frequency_w.most_common(50)\n",
    "b_punc=frequency_p.most_common(50)\n",
    "csvfile=open('freq_words.csv', 'w',newline=\"\")#open the csvfile\n",
    "writer=csv.writer(csvfile)  #write the csv file using writer\n",
    "writer.writerow(['Words','Frequency']) #writer to write the row\n",
    "for words in a_words:\n",
    "    writer.writerow([words[0],words[1]]) #write the header\n",
    "csvfile.close()#close the file"
   ]
  },
  {
   "cell_type": "markdown",
   "metadata": {},
   "source": [
    "!['title'](img/freq_words.png)"
   ]
  },
  {
   "cell_type": "code",
   "execution_count": null,
   "metadata": {
    "collapsed": true
   },
   "outputs": [],
   "source": []
  }
 ],
 "metadata": {
  "anaconda-cloud": {},
  "kernelspec": {
   "display_name": "Python [conda root]",
   "language": "python",
   "name": "conda-root-py"
  },
  "language_info": {
   "codemirror_mode": {
    "name": "ipython",
    "version": 3
   },
   "file_extension": ".py",
   "mimetype": "text/x-python",
   "name": "python",
   "nbconvert_exporter": "python",
   "pygments_lexer": "ipython3",
   "version": "3.5.2"
  }
 },
 "nbformat": 4,
 "nbformat_minor": 1
}
