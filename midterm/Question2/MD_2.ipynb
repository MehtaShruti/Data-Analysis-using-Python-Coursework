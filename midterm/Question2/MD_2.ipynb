{
 "cells": [
  {
   "cell_type": "markdown",
   "metadata": {},
   "source": [
    "# MIDTERM EXAM \n",
    "## Question 2"
   ]
  },
  {
   "cell_type": "markdown",
   "metadata": {},
   "source": [
    "**Analysis (Collection, Storage and Retrieval)** : It is the data collection, storage and retrieval from the Archive API in NYT Developers Networks. \n",
    "I have collected the data of Year 2015 for and organized the folder according to the newsdesk, \n",
    "section, sub-section and then storing the abstract and url of the articles in the text file of that corresponding folder. ( Focused on Collection and Storage of data( only headlines and URL to a .txt file)"
   ]
  },
  {
   "cell_type": "code",
   "execution_count": 3,
   "metadata": {
    "collapsed": false
   },
   "outputs": [
    {
     "name": "stdout",
     "output_type": "stream",
     "text": [
      "637daae035c64f088e2903af56a35295\n"
     ]
    }
   ],
   "source": [
    "import requests #import requests library\n",
    "import json,os,re,datetime\n",
    "nyt_book_search_key=os.getenv('auth_key') # importing the key into the environment variable\n",
    "path_to_folder=\"ArchiveData\" #path to the destination folder\n",
    "print(nyt_book_search_key)"
   ]
  },
  {
   "cell_type": "code",
   "execution_count": 4,
   "metadata": {
    "collapsed": false
   },
   "outputs": [],
   "source": [
    "for year in range(2015,2016): #checking in that year range\n",
    "    for month in range(1,13):  # for two months data\n",
    "        books_url=('http://api.nytimes.com/svc/archive/v1/'+str(year)+'/'+str(month)+'.json??&api-key='+nyt_book_search_key)# fetching the data from this url    \n",
    "        get_request = requests.get(books_url) \n",
    "        read_book=json.loads(get_request.text)#loading the data fetched to an obejct"
   ]
  },
  {
   "cell_type": "code",
   "execution_count": 290,
   "metadata": {
    "collapsed": true
   },
   "outputs": [],
   "source": [
    "def ensure_dir(path_to_folder): #declaring a function \n",
    "    if not os.path.exists(path_to_folder): #if the folder doesn't exist then create the directory\n",
    "        os.makedirs(path_to_folder)# make a directory"
   ]
  },
  {
   "cell_type": "code",
   "execution_count": 235,
   "metadata": {
    "collapsed": false
   },
   "outputs": [],
   "source": [
    "path=\"\"\n",
    "abs_list=[]\n",
    "for i in range(1,10): #iterating over tens items only\n",
    "    pub_date=read_book['response']['docs'][i]['pub_date']\n",
    "    \n",
    "    match=re.search(r'\\d{4}-\\d{2}-\\d{2}',pub_date)\n",
    "    datei=datetime.datetime.strptime(match.group(),'%Y-%m-%d').date()\n",
    "    \n",
    "    newsdesk=read_book['response']['docs'][i]['news_desk'] #get the values of news desk and all the items\n",
    "    section=read_book['response']['docs'][i]['section_name']\n",
    "    subsection=read_book['response']['docs'][i]['subsection_name']\n",
    "    abstract=read_book['response']['docs'][i]['abstract']\n",
    "    web_url=read_book['response']['docs'][i]['web_url']\n",
    "    \n",
    "    path=os.path.join(path_to_folder+'/'+str(datei.year))\n",
    "    path=os.path.join(path+'/'+str(newsdesk))\n",
    "    path=os.path.join(path+'/'+str(section))\n",
    "    path=os.path.join(path+'/'+str(subsection))\n",
    "    path=os.path.join(path+'/'+'abstract')\n",
    "    \n",
    "    ensure_dir(path)\n",
    "    path=os.path.join(path,'abstract'+'.txt')\n",
    "    with open(path,'w') as outfile:\n",
    "        if abstract!=\"\":\n",
    "            outfile.write('Abstract of this news is:\\n\\n************************\\n\\n'+str(abstract)+'\\n\\n\\n\\nYou can find more info at:\\n\\n**********************************\\n\\n'+str(web_url))\n",
    "            outfile.write(\"\\n\")\n",
    "    "
   ]
  },
  {
   "cell_type": "markdown",
   "metadata": {},
   "source": [
    "!['title'](img/news.png)"
   ]
  },
  {
   "cell_type": "markdown",
   "metadata": {},
   "source": [
    "**Analysis I**: This analysis is based upon the criminal rates in different cities with different type of count of crimes"
   ]
  },
  {
   "cell_type": "code",
   "execution_count": 10,
   "metadata": {
    "collapsed": false
   },
   "outputs": [],
   "source": [
    "for year in range(2013,2014): #checking in that year range\n",
    "    for month in range(2,8):  # for two months data\n",
    "        books_url=('http://api.nytimes.com/svc/archive/v1/'+str(year)+'/'+str(month)+'.json??&api-key='+nyt_book_search_key)# fetching the data from this url    \n",
    "        get_request = requests.get(books_url) \n",
    "        read_book=json.loads(get_request.text)#loading the data fetched to an obejct"
   ]
  },
  {
   "cell_type": "code",
   "execution_count": 365,
   "metadata": {
    "collapsed": false
   },
   "outputs": [],
   "source": [
    "path=\"\"\n",
    "path_to_folder=\"Analysis1data\"\n",
    "abs_list=[]\n",
    "for i in range(1,100): #iterating over tens items only\n",
    "    pub_date=read_book['response']['docs'][i]['pub_date']\n",
    "    \n",
    "    match=re.search(r'\\d{4}-\\d{2}-\\d{2}',pub_date)\n",
    "    datei=datetime.datetime.strptime(match.group(),'%Y-%m-%d').date()\n",
    "    \n",
    "    newsdesk=read_book['response']['docs'][i]['news_desk'] #iterating over all the sections\n",
    "    section=read_book['response']['docs'][i]['section_name']\n",
    "    subsection=read_book['response']['docs'][i]['subsection_name']\n",
    "    abstract=read_book['response']['docs'][i]['abstract']\n",
    "    web_url=read_book['response']['docs'][i]['web_url']\n",
    "    \n",
    "    path=os.path.join(path_to_folder+'/'+str(datei.year))\n",
    "    path=os.path.join(path+'/'+str(newsdesk))\n",
    "    path=os.path.join(path+'/'+str(section))\n",
    "    path=os.path.join(path+'/'+str(subsection))\n",
    "    path=os.path.join(path+'/'+'abstract')\n",
    "    \n",
    "    ensure_dir(path)\n",
    "    path=os.path.join(path,'file'+'.json')\n",
    "    with open(path,'w') as jsonfile:\n",
    "        json.dump(read_book['response']['docs'][i],jsonfile)\n",
    "            "
   ]
  },
  {
   "cell_type": "code",
   "execution_count": 12,
   "metadata": {
    "collapsed": false
   },
   "outputs": [
    {
     "name": "stdout",
     "output_type": "stream",
     "text": [
      "Number of Shootings,crime and murder in Texas is 0\n",
      "Number of Shootings,crime and murder in california is 0\n"
     ]
    }
   ],
   "source": [
    "cali=0\n",
    "texas=0\n",
    "for root, dirs, files in os.walk(path_to_folder):\n",
    "    for f in files:\n",
    "        if f.endswith('.json'):\n",
    "            with open(os.path.join(root,f), 'r', encoding='utf-8', errors=\"ignore\") as json_file:   \n",
    "                if 'pub_date' in politics.keys():\n",
    "                    match= re.search(r'\\d{4}-\\d{2}-\\d{2}', politics['pub_date'])\n",
    "                    date = datetime.datetime.strptime(match.group(), '%Y-%m-%d').date()\n",
    "                    for i in range(0,len(politics['keywords'])):\n",
    "                        if 'glocation' in politics['keywords'][i]['name']:\n",
    "                            if politics['keywords'][i]['value']=='Texas':\n",
    "                                lead=politics['lead_paragraph'].lower()\n",
    "                                if 'murder' in lead: #check if murder happened in Texas\n",
    "                                    texas+=1\n",
    "                                if 'kill'in lead:\n",
    "                                    texas+=1\n",
    "                                if 'bomb' in lead:\n",
    "                                    texas+=1\n",
    "                                if 'killed' in lead:\n",
    "                                    texas+=1\n",
    "                                if 'protest' in lead:\n",
    "                                    texas+=1\n",
    "                            if  politics['keywords'][i]['value']=='California':\n",
    "                                \n",
    "                                lead=politics['lead_paragraph'].lower()\n",
    "                                \n",
    "                                if 'protest' in lead:\n",
    "                                    cali+=1\n",
    "                                if 'killed' in lead:\n",
    "                                    cali+=1\n",
    "                                if 'bomb' in lead:\n",
    "                                    cali+=1\n",
    "                                if 'murder' in lead:\n",
    "                                    cali+=1\n",
    "                                    \n",
    "\n",
    "print( 'Number of Shootings,crime and murder in Texas is',+texas)\n",
    "print( 'Number of Shootings,crime and murder in california is',+cali)"
   ]
  },
  {
   "cell_type": "markdown",
   "metadata": {},
   "source": [
    "**Analysis II** : \n",
    "This analysis is based on the **Books API: Best Sellers** wherein I have analysed the number of early releases that the books that got newly published within 2 years"
   ]
  },
  {
   "cell_type": "code",
   "execution_count": 489,
   "metadata": {
    "collapsed": true
   },
   "outputs": [],
   "source": [
    "import json,csv\n",
    "path_to_folder=\"Analysis2data\"\n"
   ]
  },
  {
   "cell_type": "code",
   "execution_count": 490,
   "metadata": {
    "collapsed": false,
    "scrolled": false
   },
   "outputs": [],
   "source": [
    "url=('http://api.nytimes.com//svc/books/v3/lists/names.json??&api-key='+nyt_book_search_key)\n",
    "get_request = requests.get(url) \n",
    "read_Text=json.loads(get_request.text)\n",
    "#read_Text"
   ]
  },
  {
   "cell_type": "code",
   "execution_count": 501,
   "metadata": {
    "collapsed": false,
    "scrolled": true
   },
   "outputs": [
    {
     "name": "stdout",
     "output_type": "stream",
     "text": [
      "Children’s Middle Grade E-Book 2017 2015\n",
      "Children’s Middle Grade Hardcover 2017 2015\n",
      "Children’s Middle Grade Paperback 2017 2015\n",
      "Young Adult E-Book 2017 2015\n",
      "Young Adult Hardcover 2017 2015\n",
      "Young Adult Paperback 2017 2015\n",
      "Combined Hardcover & Paperback Fiction 2013 2011\n",
      "Combined Hardcover & Paperback Nonfiction 2013 2011\n",
      "Hardcover Business Books 2013 2011\n",
      "Indigenous Americans 2016 2014\n",
      "Paperback Business Books 2013 2011\n"
     ]
    }
   ],
   "source": [
    "pathbooks=\"\"\n",
    "abso_list=[]\n",
    "books_list={}\n",
    "name_books=[]\n",
    "for i in range(1,50): #iterating over thousands items only\n",
    "    new_pub_date=read_Text['results'][i]['newest_published_date']\n",
    "    old_pub_date=read_Text['results'][i]['oldest_published_date']\n",
    "    \n",
    "    match_new_date=re.search(r'\\d{4}-\\d{2}-\\d{2}',new_pub_date)\n",
    "    match_old_date=re.search(r'\\d{4}-\\d{2}-\\d{2}',old_pub_date)\n",
    "    datenew=datetime.datetime.strptime(match_new_date.group(),'%Y-%m-%d').date()\n",
    "    dateold=datetime.datetime.strptime(match_old_date.group(),'%Y-%m-%d').date()\n",
    "    \n",
    "    yeardiff=datenew.year-dateold.year\n",
    "    \n",
    "    \n",
    "    updated=read_Text['results'][i]['updated']\n",
    "    displayname=read_Text['results'][i]['display_name']\n",
    "    listnameenc=read_Text['results'][i]['list_name_encoded']\n",
    "    listname=read_Text['results'][i]['list_name']\n",
    "    \n",
    "    pathbooks=os.path.join(path_to_folder+'/'+str(datenew.year))  # joining the path together\n",
    "    pathbooks=os.path.join(pathbooks+'/'+str(datenew.month))\n",
    "    pathbooks=os.path.join(pathbooks+'/'+str(updated))\n",
    "    pathbooks=os.path.join(pathbooks+'/'+str(listnameenc))\n",
    "    pathbooks=os.path.join(pathbooks+'/'+str(displayname))\n",
    "    \n",
    "    \n",
    "    ensure_dir(pathbooks)\n",
    "    pathbooks=os.path.join(pathbooks,'file'+'.json')\n",
    "    with open(pathbooks,'w') as outfile:\n",
    "        json.dump(listname,outfile) \n",
    "        \n",
    "        \n",
    "    with open('Books_published.csv', 'w') as csvfile:   #open the csvfile\n",
    "        fieldnames = ['Books','New Published Year','Old Published Year']\n",
    "        writer = csv.DictWriter(csvfile, fieldnames=fieldnames)  #write the csv file using writer\n",
    "        writer.writeheader()\n",
    "        if yeardiff == 2:\n",
    "            if yeardiff not in books_list:\n",
    "                books_list[yeardiff]=1\n",
    "                #name_books.append(displayname)\n",
    "            else:\n",
    "                books_list[yeardiff]+=1\n",
    "                #name_books.append(displayname)\n",
    "            print(displayname,datenew.year,dateold.year)\n",
    "            writer.writerow({'Books':displayname,'New Published Year':datenew.year,'Old Published Year':dateold.year}) #writer to write the row\n"
   ]
  },
  {
   "cell_type": "markdown",
   "metadata": {},
   "source": [
    "!['Books Published within two year''](img/books_published.png)"
   ]
  },
  {
   "cell_type": "markdown",
   "metadata": {
    "collapsed": false
   },
   "source": [
    "**Analysis III**: This anlysis is related to Donald Trump's Presidential political promotional times"
   ]
  },
  {
   "cell_type": "code",
   "execution_count": 465,
   "metadata": {
    "collapsed": false
   },
   "outputs": [],
   "source": [
    "import json,csv\n",
    "path_to_folder=\"Analysis3data\"    "
   ]
  },
  {
   "cell_type": "code",
   "execution_count": 499,
   "metadata": {
    "collapsed": false
   },
   "outputs": [],
   "source": [
    "books_url=('http://api.nytimes.com/svc/search/v2/articlesearch.json?q=trump&facet_field=source&api-key='+nyt_book_search_key)# fetching the data from this url    \n",
    "get_request = requests.get(books_url) \n",
    "read_book=json.loads(get_request.text)#loading the data fetched to an obejct\n"
   ]
  },
  {
   "cell_type": "code",
   "execution_count": 468,
   "metadata": {
    "collapsed": false
   },
   "outputs": [],
   "source": [
    "path=\"\"\n",
    "abs_list=[]\n",
    "for i in range(1,10): #iterating over thousands items only\n",
    "    pub_date=read_book['response']['docs'][i]['pub_date']\n",
    "    \n",
    "    match=re.search(r'\\d{4}-\\d{2}-\\d{2}',pub_date)\n",
    "    datei=datetime.datetime.strptime(match.group(),'%Y-%m-%d').date()\n",
    "    try:\n",
    "        doctype=read_book['response']['docs'][i]['document_type']\n",
    "        section=read_book['response']['docs'][i]['section_name']\n",
    "        subsection=read_book['response']['docs'][i]['subsection_name']\n",
    "        leadpara=read_book['response']['docs'][i]['lead_paragraph']\n",
    "\n",
    "    \n",
    "        path=os.path.join(path_to_folder+'/'+str(datei.year))\n",
    "        path=os.path.join(path+'/'+str(datei.strftime('%b')))  \n",
    "        path=os.path.join(path+'/'+str(datei.day))\n",
    "        path=os.path.join(path+'/'+str(doctype))\n",
    "        path=os.path.join(path+'/'+str(section))\n",
    "        path=os.path.join(path+'/'+str(subsection))\n",
    "        path=os.path.join(path+'/'+'leadpara')\n",
    "\n",
    "        ensure_dir(path)\n",
    "        path=os.path.join(path,'file'+'.json')\n",
    "        with open(path,'w') as jsonfile:\n",
    "            json.dump(read_book['response']['docs'][i],jsonfile)\n",
    "            \n",
    "    except (TypeError,AttributeError):\n",
    "        pass\n",
    "    "
   ]
  },
  {
   "cell_type": "code",
   "execution_count": 479,
   "metadata": {
    "collapsed": false
   },
   "outputs": [],
   "source": [
    "trump=dict.fromkeys(range(1,4),0)\n",
    "military=dict.fromkeys(range(1,4),0)\n",
    "republicans=dict.fromkeys(range(1,4),0)\n",
    "protestors=dict.fromkeys(range(1,4),0)\n",
    "immigration=dict.fromkeys(range(1,4),0)\n",
    "terrorism=dict.fromkeys(range(1,4),0)\n",
    "for root, dirs, files in os.walk(path_to_folder):\n",
    "    for f in files:\n",
    "        if f.endswith('.json'):        \n",
    "            with open(os.path.join(root,f), 'r', encoding='utf-8', errors=\"ignore\") as file:\n",
    "                trumpdata=json.load(file)    \n",
    "                match=re.search(r'\\d{4}-\\d{2}-\\d{2}', trumpdata['pub_date'])\n",
    "                date=datetime.datetime.strptime(match.group(),'%Y-%m-%d').date() #checking the trump related words in the context\n",
    "                if( \"trump\" or 'Donald' or 'president-elect') in  (trumpdata['lead_paragraph'].lower() or trumpdata['headline']['main'].lower()):\n",
    "                    if(\"trump\" or \"president's\" or 'president') in (trumpdata['lead_paragraph'].lower() or trumpdata['headline']['main'].lower()):\n",
    "                        trump[date.month]+=1\n",
    "                    if ('organization') in (trumpdata['lead_paragraph'].lower() or trumpdata['headline']['main'].lower()):\n",
    "                        military[date.month]+=1\n",
    "                    if ('trump' or 'republicans' or 'democrats') in  (trumpdata['lead_paragraph'].lower() or trumpdata['headline']['main'].lower()):\n",
    "                        republicans[date.month]+=1\n",
    "                    if ('trump' or 'protestors') in  (trumpdata['lead_paragraph'].lower() or trumpdata['headline']['main'].lower()):\n",
    "                        protestors[date.month]+=1\n",
    "                    if ('trump' or 'immigration' or \"refugee\") in (trumpdata['lead_paragraph'].lower() or trumpdata['headline']['main'].lower()):\n",
    "                        immigration[date.month]+=1\n",
    "                    if ('trump'or 'terrorism' or 'taliban' or 'government') in  (trumpdata['lead_paragraph'].lower() or trumpdata['headline']['main'].lower()):\n",
    "                        terrorism[date.month]+=1  \n",
    "                        \n",
    "               "
   ]
  },
  {
   "cell_type": "code",
   "execution_count": 507,
   "metadata": {
    "collapsed": false
   },
   "outputs": [
    {
     "data": {
      "image/png": "[encoded data removed]",
      "text/plain": [
       "<matplotlib.figure.Figure at 0x12021f198>"
      ]
     },
     "metadata": {},
     "output_type": "display_data"
    }
   ],
   "source": [
    "import matplotlib.pyplot as plt #plotting the graph\n",
    "\n",
    "plt.style.use('ggplot')\n",
    "plt.style.use('seaborn-dark-palette')\n",
    "plt.style.use('seaborn-poster')\n",
    "\n",
    "pos=[0.15]*5\n",
    "z = plt.subplot(111)\n",
    "\n",
    "t=[i - (j*2) for i, j in zip(trumpx, pos)]\n",
    "m=[i - (j) for i, j in zip(trumpx, pos)]\n",
    "p=[i + (j) for i, j in zip(protestorsx, pos)]\n",
    "t=[i + (j*2) for i, j in zip(terrorismx, pos)]\n",
    "trumpx=[]\n",
    "trumpy=[]\n",
    "for a in trump:\n",
    "    trumpx.append(a)\n",
    "    trumpy.append(trump[a])\n",
    "\n",
    "militaryx=[]\n",
    "militaryy=[]\n",
    "for a in military:\n",
    "    militaryx.append(a)\n",
    "    militaryy.append(military[a])\n",
    "republicansx=[]\n",
    "republicansy=[]\n",
    "for a in republicans:\n",
    "    republicansx.append(a)\n",
    "    republicansy.append(republicans[a])\n",
    "protestorsx=[]\n",
    "protestorsy=[]\n",
    "for a in protestors:\n",
    "    protestorsx.append(a)\n",
    "    protestorsy.append(protestors[a])\n",
    "terrorismx=[]\n",
    "terrorismy=[]\n",
    "for a in terrorism:\n",
    "    terrorismx.append(a)\n",
    "    terrorismy.append(terrorism[a])\n",
    "\n",
    "z.bar(o, trumpy,width=0.15,color='gold',align='center',label='Donald J Trump')\n",
    "\n",
    "z.bar(m, militaryy,width=0.15,color='darkcyan',align='center',label='U.S. military')\n",
    "\n",
    "z.bar(republicansx, republicansy,width=0.15,color='cornflowerblue',align='center',label='republicans')\n",
    "\n",
    "z.bar(p, protestorsy,width=0.15,color='darkred',align='center',label='protestors')\n",
    "\n",
    "z.bar(t, terrorismy,width=0.15,color='salmon',align='center',label='terrorism')\n",
    "plt.xticks(trumpx,trumpx)\n",
    "z.legend()\n",
    "plt.show()\n",
    "\n"
   ]
  },
  {
   "cell_type": "markdown",
   "metadata": {},
   "source": [
    "!['Graph of Trump presidential times'](img/graph_trump.png)"
   ]
  },
  {
   "cell_type": "code",
   "execution_count": null,
   "metadata": {
    "collapsed": true
   },
   "outputs": [],
   "source": []
  }
 ],
 "metadata": {
  "anaconda-cloud": {},
  "kernelspec": {
   "display_name": "Python [conda root]",
   "language": "python",
   "name": "conda-root-py"
  },
  "language_info": {
   "codemirror_mode": {
    "name": "ipython",
    "version": 3
   },
   "file_extension": ".py",
   "mimetype": "text/x-python",
   "name": "python",
   "nbconvert_exporter": "python",
   "pygments_lexer": "ipython3",
   "version": "3.5.2"
  }
 },
 "nbformat": 4,
 "nbformat_minor": 1
}
