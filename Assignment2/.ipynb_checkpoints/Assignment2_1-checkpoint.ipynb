{
 "cells": [
  {
   "cell_type": "markdown",
   "metadata": {},
   "source": [
    "#              Assignment 2    \n",
    "## Question 1"
   ]
  },
  {
   "cell_type": "markdown",
   "metadata": {},
   "source": [
    "- Learn and understand Zipf’s Law.\n",
    "- Pick any file (or files) in NLTK package.\n",
    "- Prove if Zipf’s Law works in Natural Language or not.  REQUIREMNTS: (Must Do)\n",
    "- Use ’glob’ to open and read file. If read multiple files use LOOP to achieve.\n",
    "- Create at least one function and one lambda function.\n",
    "- Save your data as an CSV file contains (Word, Rank, Frequency) with TITLE and Sort it by RANK. \n",
    "- Open your CSV file, generate a log-log figure according to the data you saved.\n",
    "- Write a conclusion at the end of your code base on your figure."
   ]
  },
  {
   "cell_type": "code",
   "execution_count": 1,
   "metadata": {
    "collapsed": false
   },
   "outputs": [],
   "source": [
    "# import packages \n",
    "from nltk.corpus import webtext\n",
    "import matplotlib.pyplot as plt\n",
    "import glob\n",
    "import csv\n",
    "import re\n",
    "import string"
   ]
  },
  {
   "cell_type": "code",
   "execution_count": 2,
   "metadata": {
    "collapsed": false,
    "scrolled": false
   },
   "outputs": [
    {
     "name": "stdout",
     "output_type": "stream",
     "text": [
      "Top words and their frequencies are: \n"
     ]
    },
    {
     "data": {
      "text/plain": [
       "[('the', 5987),\n",
       " ('i', 5802),\n",
       " ('you', 4982),\n",
       " ('a', 4961),\n",
       " ('to', 4171),\n",
       " ('and', 3557),\n",
       " ('girl', 2945),\n",
       " ('guy', 2735),\n",
       " ('of', 2312),\n",
       " ('it', 2134),\n",
       " ('that', 2096),\n",
       " ('on', 2056),\n",
       " ('in', 2035),\n",
       " ('is', 1996),\n",
       " ('like', 1555),\n",
       " ('my', 1479),\n",
       " ('so', 1332),\n",
       " ('but', 1330),\n",
       " ('this', 1268),\n",
       " ('have', 1267),\n",
       " ('me', 1264),\n",
       " ('with', 1240),\n",
       " ('for', 1181),\n",
       " ('was', 1179),\n",
       " ('im', 1137),\n",
       " ('not', 1137),\n",
       " ('what', 1125),\n",
       " ('dont', 1093),\n",
       " ('no', 1085),\n",
       " ('man', 1046),\n",
       " ('its', 1033),\n",
       " ('know', 1002),\n",
       " ('just', 1001),\n",
       " ('woman', 991),\n",
       " ('your', 967),\n",
       " ('are', 947),\n",
       " ('be', 937),\n",
       " ('he', 901),\n",
       " ('do', 886),\n",
       " ('yeah', 837),\n",
       " ('get', 781),\n",
       " ('at', 781),\n",
       " ('all', 744),\n",
       " ('chick', 714),\n",
       " ('we', 697),\n",
       " ('if', 683),\n",
       " ('up', 665),\n",
       " ('they', 663),\n",
       " ('oh', 650),\n",
       " ('she', 642)]"
      ]
     },
     "execution_count": 2,
     "metadata": {},
     "output_type": "execute_result"
    }
   ],
   "source": [
    "words=[] \n",
    "words_freq={}\n",
    "file_list= glob.glob(\"nltk_data/corpora/webtext/*.txt\") # use glob to open the files\n",
    "for file in file_list: \n",
    "    with open(file,'r',encoding='utf-8',errors='ignore') as f: #open the file in read mode\n",
    "        readfile=f.read() #read the contents of the file\n",
    "        lower_words=readfile.lower() # lower the contents of the file\n",
    "        string_to_words = re.sub('['+string.punctuation+']', '', lower_words).split()#convert string to words \n",
    "    for word in string_to_words:\n",
    "        if word.isalpha(): #remove punctuations\n",
    "            if word not in words_freq:\n",
    "                words_freq[word] = 1  #checking if the word is available in the dictionary\n",
    "            else:\n",
    "                words_freq[word] += 1 # for existing words, increment by 1\n",
    "sorted_words=sorted(words_freq.items(), key=lambda x: x[1], reverse=True)# sort the words \n",
    "print(\"Top words and their frequencies are: \")\n",
    "sorted_words[:50] # display ten most frequently used words\n",
    "        "
   ]
  },
  {
   "cell_type": "code",
   "execution_count": 3,
   "metadata": {
    "collapsed": false
   },
   "outputs": [],
   "source": [
    "def filewrite(): #define a method filewrite\n",
    "    count=1\n",
    "    csvfile=open('assign2.csv', 'w',newline=\"\")#open the csvfile\n",
    "    writer=csv.writer(csvfile)  #write the csv file using writer\n",
    "    writer.writerow(['Words','Frequency','Rank']) #writer to write the row\n",
    "    for words in sorted_words:\n",
    "        writer.writerow([words[0],words[1],count]) #write the header\n",
    "        count+=1\n",
    "    csvfile.close()#close the file"
   ]
  },
  {
   "cell_type": "code",
   "execution_count": 4,
   "metadata": {
    "collapsed": false,
    "scrolled": true
   },
   "outputs": [],
   "source": [
    "filewrite() #calling the function filewrite "
   ]
  },
  {
   "cell_type": "code",
   "execution_count": 5,
   "metadata": {
    "collapsed": false
   },
   "outputs": [
    {
     "data": {
      "image/png": "[encoded data removed]",
      "text/plain": [
       "<matplotlib.figure.Figure at 0x10e4b34a8>"
      ]
     },
     "metadata": {},
     "output_type": "display_data"
    }
   ],
   "source": [
    "csvfile=open('assign2.csv', 'r') # open csv file\n",
    "w=[] #declare lists for words, frequency and ranks\n",
    "f=[]\n",
    "r=[]\n",
    "csv_f=csv.reader(csvfile) #read the csv file using reader\n",
    "for row in csv_f:\n",
    "    w.append(row[0]) #append the 0th element in the list of row\n",
    "    f.append(row[1]) #append the 1st element in the list of row\n",
    "    r.append(row[2]) #append the 2nd element in the list of row\n",
    "r.pop(0) #pop out the 0th element in the list of rank, because it's a string header\n",
    "f.pop(0) #pop out the 1st element in the list of rank, because it's a string header\n",
    "plt.loglog(f,r,color='g',linewidth=2) #plot loglog graph\n",
    "plt.grid(True)\n",
    "plt.title(\"Zipf plot for Webtext corpus tokens\")\n",
    "plt.xlabel(\"Frequency rank of token\")\n",
    "plt.ylabel(\"Absolute frequency of token\")\n",
    "plt.show() "
   ]
  },
  {
   "cell_type": "markdown",
   "metadata": {},
   "source": [
    "# Proof Zipf's Law: Conclusion"
   ]
  },
  {
   "cell_type": "markdown",
   "metadata": {},
   "source": [
    "**It's evident from the loglog graph that the plot between frequency and rank of words prove the Ziph's law**"
   ]
  },
  {
   "cell_type": "markdown",
   "metadata": {
    "collapsed": false
   },
   "source": [
    "!['Words, Rank, Frequency'](img/Rank.png)"
   ]
  },
  {
   "cell_type": "code",
   "execution_count": null,
   "metadata": {
    "collapsed": true
   },
   "outputs": [],
   "source": []
  }
 ],
 "metadata": {
  "anaconda-cloud": {},
  "kernelspec": {
   "display_name": "Python [conda root]",
   "language": "python",
   "name": "conda-root-py"
  },
  "language_info": {
   "codemirror_mode": {
    "name": "ipython",
    "version": 3
   },
   "file_extension": ".py",
   "mimetype": "text/x-python",
   "name": "python",
   "nbconvert_exporter": "python",
   "pygments_lexer": "ipython3",
   "version": "3.5.2"
  }
 },
 "nbformat": 4,
 "nbformat_minor": 1
}
