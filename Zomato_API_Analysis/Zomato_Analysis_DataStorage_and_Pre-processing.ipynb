{
 "cells": [
  {
   "cell_type": "markdown",
   "metadata": {
    "collapsed": false
   },
   "source": [
    "# Data Collection and Storage"
   ]
  },
  {
   "cell_type": "markdown",
   "metadata": {
    "collapsed": true
   },
   "source": [
    "### Fetching raw data from the url"
   ]
  },
  {
   "cell_type": "code",
   "execution_count": 175,
   "metadata": {
    "collapsed": false
   },
   "outputs": [
    {
     "name": "stdout",
     "output_type": "stream",
     "text": [
      "b90e6a8c738410315a20c449fe2eb1b1\n"
     ]
    }
   ],
   "source": [
    "import requests #import requests library\n",
    "import json,os,re,datetime\n",
    "import csv\n",
    "import pandas as pd\n",
    "from pandas import DataFrame\n",
    "zomato_api_key=os.getenv('auth_key') # importing the key into the environment variable\n",
    "path_to_folder=\"Raw_Data\" #path to the destination folder\n",
    "print(zomato_api_key)"
   ]
  },
  {
   "cell_type": "code",
   "execution_count": 296,
   "metadata": {
    "collapsed": false
   },
   "outputs": [],
   "source": [
    "headers1={'user-key' : zomato_api_key}\n",
    "read_rest=[]\n",
    "rest_list=[]\n",
    "for i in range(1,20):\n",
    "    read_rest=[]\n",
    "    rests_url=('https://developers.zomato.com/api/v2.1/search?entity_id='+str(i)+'&entity_type=city&start=1&count=20')# fetching the data from this url    \n",
    "    get_request = requests.get(rests_url,headers=headers1)\n",
    "    read_rest=json.loads(get_request.text)#loading the data fetched to an obejct\n",
    "    rest_list.append(read_rest)\n",
    "rest_list\n",
    "\n",
    "import pprint \n",
    "pp = pprint.PrettyPrinter(indent=4)\n",
    "#pp.pprint(rest_list)"
   ]
  },
  {
   "cell_type": "code",
   "execution_count": 83,
   "metadata": {
    "collapsed": false
   },
   "outputs": [],
   "source": [
    "path_file=os.path.join(path_to_folder,'file5'+'.json') #collection of the raw data into json file\n",
    "with open(path_file,'w') as jsonfile:\n",
    "    json.dump(rest_list,jsonfile) #dumping the data into json file"
   ]
  },
  {
   "cell_type": "markdown",
   "metadata": {},
   "source": [
    "### Processing the data and storing as json in the path"
   ]
  },
  {
   "cell_type": "code",
   "execution_count": 94,
   "metadata": {
    "collapsed": false
   },
   "outputs": [
    {
     "name": "stdout",
     "output_type": "stream",
     "text": [
      "['file1.json', 'file2.json', 'file3.json', 'file4.json', 'file5.json']\n"
     ]
    }
   ],
   "source": [
    "path_to_folder='Raw_Data'\n",
    "path_to_json = 'Processed_Data'\n",
    "json_files = [pos_json for pos_json in os.listdir(path_to_folder) if pos_json.endswith('.json')] #looping in the folder \"data\" where the the json files are placed \n",
    "print (json_files) "
   ]
  },
  {
   "cell_type": "code",
   "execution_count": 95,
   "metadata": {
    "collapsed": true
   },
   "outputs": [],
   "source": [
    "def ensure_dir(path_to_json): #declaring a function \n",
    "    if not os.path.exists(path_to_json): #if the folder doesn't exist then create the directory\n",
    "        os.makedirs(path_to_json)# make a directory"
   ]
  },
  {
   "cell_type": "code",
   "execution_count": 103,
   "metadata": {
    "collapsed": false,
    "scrolled": true
   },
   "outputs": [
    {
     "name": "stdout",
     "output_type": "stream",
     "text": [
      "file1.json\n",
      "file2.json\n",
      "file3.json\n",
      "file4.json\n",
      "file5.json\n"
     ]
    }
   ],
   "source": [
    "path=\"\"\n",
    "\n",
    "for js in json_files:\n",
    "    with open(os.path.join(path_to_folder, js),'r', encoding='utf-8', errors=\"ignore\") as json_file: #append the path of file to the source folde\n",
    "        loaded_file = json.load(json_file,strict=False) #load the file to be selected\n",
    "        for i in range(len(loaded_file)):\n",
    "            if 'restaurants' in loaded_file[i].keys():\n",
    "                for j in range(len(loaded_file[i]['restaurants'])):\n",
    "                    if('restaurant' in loaded_file[i]['restaurants'][j].keys()):\n",
    "                        currency=loaded_file[i]['restaurants'][j]['restaurant']['currency']\n",
    "                        city=loaded_file[i]['restaurants'][j]['restaurant']['location']['city']\n",
    "                        locality=loaded_file[i]['restaurants'][j]['restaurant']['location']['locality']\n",
    "                        rating_text=loaded_file[i]['restaurants'][j]['restaurant']['user_rating']['rating_text']\n",
    "                        name_res=loaded_file[i]['restaurants'][j]['restaurant']['name'].replace('/',\" \")\n",
    "                        res_id=loaded_file[i]['restaurants'][j]['restaurant']['R']['res_id']\n",
    "\n",
    "                        if currency=='Rs.': #replacing the currency with the name of the currency \n",
    "                            rs=currency.replace('Rs.',\"Indian Rupees(Rs.)\")\n",
    "                            path=os.path.join(path_to_json +'/' + rs)\n",
    "                        elif currency=='IDR': #replacing the currency with the name of the currency\n",
    "                            idr=currency.replace('IDR',\"Indonesian Rupiah(IDR)\")\n",
    "                            path=os.path.join(path_to_json +'/' + idr)\n",
    "                        elif currency=='P': #replacing the currency with the name of the currency\n",
    "                            p=currency.replace('P',\"Botswana Pula(P)\")\n",
    "                            path=os.path.join(path_to_json +'/' + p)\n",
    "                        elif currency=='$': #replacing the currency with the name of the currency\n",
    "                            dol=currency.replace('$',\"Dollar($)\")\n",
    "                            path=os.path.join(path_to_json +'/' + dol)\n",
    "                        elif currency=='€': #replacing the currency with the name of the currency\n",
    "                            euro=currency.replace('€',\"Euro(€)\")\n",
    "                            path=os.path.join(path_to_json +'/' +euro)\n",
    "                        elif currency=='£': #replacing the currency with the name of the currency\n",
    "                            pound=currency.replace('£',\"Pounds(£)\")\n",
    "                            path=os.path.join(path_to_json +'/' + pound)\n",
    "                        elif currency=='AED': #replacing the currency with the name of the currency\n",
    "                            aed=currency.replace('AED',\"Emirati Diram(AED)\")\n",
    "                            path=os.path.join(path_to_json +'/' + aed)\n",
    "                        elif currency=='LKR': #replacing the currency with the name of the currency\n",
    "                            lkr=currency.replace('LKR',\"Sri Lankan Rupee(LKR)\")\n",
    "                            path=os.path.join(path_to_json +'/' + lkr)\n",
    "                        elif currency=='NZ$': #replacing the currency with the name of the currency\n",
    "                            nzd=currency.replace('NZ$',\"NewZealand($)\")\n",
    "                            path=os.path.join(path_to_json +'/' +nzd)\n",
    "                        elif currency=='QR': #replacing the currency with the name of the currency\n",
    "                            qr=currency.replace('QR',\"Qatari Rial(QR)\")\n",
    "                            path=os.path.join(path_to_json +'/' + qr)\n",
    "                        elif currency=='R': #replacing the currency with the name of the currency\n",
    "                            r=currency.replace('R',\"Rand(R)\")\n",
    "                            path=os.path.join(path_to_json +'/' + r)\n",
    "                        elif currency=='R$': #replacing the currency with the name of the currency\n",
    "                            real=currency.replace('R$',\"Brazilian Real(R$)\")\n",
    "                            path=os.path.join(path_to_json +'/' +real)\n",
    "                        elif currency=='TL': #replacing the currency with the name of the currency\n",
    "                            tl=currency.replace('TL',\"Turkish Lira(TL)\")\n",
    "                            path=os.path.join(path_to_json +'/' +tl)\n",
    "                        #elif currency=='':\n",
    "                        #    d=currency.replace('Dummy',\"D(TL)\")\n",
    "                        #    path=os.path.join(path_to_json +'/' +d)\n",
    "\n",
    "                        path=os.path.join(path +'/' + city)\n",
    "                        path=os.path.join(path +'/' + locality)\n",
    "                        path=os.path.join(path +'/' + rating_text)\n",
    "                        ensure_dir(path)\n",
    "                        path=os.path.join(path,str(name_res)+'_'+str(res_id)+'.json')\n",
    "                        with open(path,'w') as json_file:\n",
    "                            json.dump(loaded_file[i]['restaurants'][j],json_file) #dump every json in its path\n",
    "              "
   ]
  },
  {
   "cell_type": "markdown",
   "metadata": {
    "collapsed": false
   },
   "source": [
    "### Exporting json to csv "
   ]
  },
  {
   "cell_type": "code",
   "execution_count": 105,
   "metadata": {
    "collapsed": false
   },
   "outputs": [],
   "source": [
    "path=\"\"\n",
    "csvfile=open('zomato.csv', 'w',newline=\"\")#open the csvfile\n",
    "writer=csv.writer(csvfile)  #write the csv file using writer\n",
    "writer.writerow(['Restaurant ID','Restaurant Name','Country Code','City','Address','Locality','Locality Verbose','Longitude','Latitude','Cuisines','Average Cost for two','Currency','Has Table booking','Has Online delivery','Is delivering now','Switch to order menu','Price range','Aggregate rating','Rating color','Rating text','Votes']) #writer to write the row\n",
    "\n",
    "for root,dirs,files in os.walk(path_to_json):\n",
    "    for f in files: #check every json file\n",
    "        if f.endswith('.json'):\n",
    "            with open(os.path.join(root,f), 'r', encoding='utf-8', errors=\"ignore\") as json_file:\n",
    "                loaded_file = json.load(json_file,strict=False) #load the file to be selected\n",
    "                currency=loaded_file['restaurant']['currency']\n",
    "                city=loaded_file['restaurant']['location']['city']\n",
    "                locality=loaded_file['restaurant']['location']['locality']\n",
    "                rating_text=loaded_file['restaurant']['user_rating']['rating_text']\n",
    "                name_res=loaded_file['restaurant']['name']\n",
    "                res_id=loaded_file['restaurant']['R']['res_id']\n",
    "                cuisines=loaded_file['restaurant']['cuisines']\n",
    "                has_table_booking=loaded_file['restaurant']['has_table_booking']\n",
    "                has_online_delivery=loaded_file['restaurant']['has_online_delivery']\n",
    "                city_id=loaded_file['restaurant']['location']['city_id']\n",
    "                address=loaded_file['restaurant']['location']['address']\n",
    "                locality_verbose=loaded_file['restaurant']['location']['locality_verbose']\n",
    "                longitude=loaded_file['restaurant']['location']['longitude']\n",
    "                latitude=loaded_file['restaurant']['location']['latitude']\n",
    "                is_delivering_now=loaded_file['restaurant']['is_delivering_now']\n",
    "                country_id=loaded_file['restaurant']['location']['country_id']\n",
    "                price_range=loaded_file['restaurant']['price_range']\n",
    "                switch_to_order_menu=loaded_file['restaurant']['switch_to_order_menu']\n",
    "                aggregate_rating=loaded_file['restaurant']['user_rating']['aggregate_rating']\n",
    "                rating_color=loaded_file['restaurant']['user_rating']['rating_color']\n",
    "                votes=loaded_file['restaurant']['user_rating']['votes']\n",
    "                avg_cost=loaded_file['restaurant']['average_cost_for_two']\n",
    "\n",
    "                if currency=='Rs.': #ensuring the path with the correct currency match\n",
    "                    rs=currency.replace('Rs.',\"Indian Rupees(Rs.)\")\n",
    "                    writer.writerow([res_id,name_res,country_id,city,address,locality,locality_verbose,longitude,latitude,cuisines,avg_cost,rs,has_table_booking,has_online_delivery,is_delivering_now,switch_to_order_menu,price_range,aggregate_rating,rating_color,rating_text,votes]) #export the data in the required csv format\n",
    "                elif currency=='IDR':#ensuring the path with the correct currency match\n",
    "                    idr=currency.replace('IDR',\"Indonesian Rupiah(IDR)\")\n",
    "                    writer.writerow([res_id,name_res,country_id,city,address,locality,locality_verbose,longitude,latitude,cuisines,avg_cost,idr,has_table_booking,has_online_delivery,is_delivering_now,switch_to_order_menu,price_range,aggregate_rating,rating_color,rating_text,votes]) #export the data in the required csv format\n",
    "                elif currency=='P':#ensuring the path with the correct currency match\n",
    "                    p=currency.replace('P',\"Botswana Pula(P)\")\n",
    "                    writer.writerow([res_id,name_res,country_id,city,address,locality,locality_verbose,longitude,latitude,cuisines,avg_cost,p,has_table_booking,has_online_delivery,is_delivering_now,switch_to_order_menu,price_range,aggregate_rating,rating_color,rating_text,votes]) #export the data in the required csv format\n",
    "                elif currency=='$': #ensuring the path with the correct currency match\n",
    "                    dol=currency.replace('$',\"Dollar($)\")\n",
    "                    writer.writerow([res_id,name_res,country_id,city,address,locality,locality_verbose,longitude,latitude,cuisines,avg_cost,dol,has_table_booking,has_online_delivery,is_delivering_now,switch_to_order_menu,price_range,aggregate_rating,rating_color,rating_text,votes]) #export the data in the required csv format\n",
    "                elif currency=='€':#ensuring the path with the correct currency match\n",
    "                    euro=currency.replace('€',\"Euro(€)\")\n",
    "                    writer.writerow([res_id,name_res,country_id,city,address,locality,locality_verbose,longitude,latitude,cuisines,avg_cost,euro,has_table_booking,has_online_delivery,is_delivering_now,switch_to_order_menu,price_range,aggregate_rating,rating_color,rating_text,votes]) #export the data in the required csv format\n",
    "                elif currency=='£': #ensuring the path with the correct currency match\n",
    "                    pound=currency.replace('£',\"Pounds(£)\")\n",
    "                    writer.writerow([res_id,name_res,country_id,city,address,locality,locality_verbose,longitude,latitude,cuisines,avg_cost,pound,has_table_booking,has_online_delivery,is_delivering_now,switch_to_order_menu,price_range,aggregate_rating,rating_color,rating_text,votes]) #export the data in the required csv format\n",
    "                elif currency=='IDR':#ensuring the path with the correct currency match\n",
    "                    idr=currency.replace('IDR',\"Indonesian Rupiah(IDR)\")\n",
    "                    writer.writerow([res_id,name_res,country_id,city,address,locality,locality_verbose,longitude,latitude,cuisines,avg_cost,idr,has_table_booking,has_online_delivery,is_delivering_now,switch_to_order_menu,price_range,aggregate_rating,rating_color,rating_text,votes]) #export the data in the required csv format\n",
    "                elif currency=='AED':#ensuring the path with the correct currency match\n",
    "                    aed=currency.replace('AED',\"Emirati Diram(AED)\")\n",
    "                    writer.writerow([res_id,name_res,country_id,city,address,locality,locality_verbose,longitude,latitude,cuisines,avg_cost,aed,has_table_booking,has_online_delivery,is_delivering_now,switch_to_order_menu,price_range,aggregate_rating,rating_color,rating_text,votes]) #export the data in the required csv format\n",
    "                elif currency=='LKR':#ensuring the path with the correct currency match\n",
    "                    lkr=currency.replace('LKR',\"Sri Lankan Rupee(LKR)\")\n",
    "                    writer.writerow([res_id,name_res,country_id,city,address,locality,locality_verbose,longitude,latitude,cuisines,avg_cost,lkr,has_table_booking,has_online_delivery,is_delivering_now,switch_to_order_menu,price_range,aggregate_rating,rating_color,rating_text,votes]) #export the data in the required csv format\n",
    "                elif currency=='NZ$': #ensuring the path with the correct currency match\n",
    "                    nzd=currency.replace('NZ$',\"NewZealand($)\")\n",
    "                    writer.writerow([res_id,name_res,country_id,city,address,locality,locality_verbose,longitude,latitude,cuisines,avg_cost,nzd,has_table_booking,has_online_delivery,is_delivering_now,switch_to_order_menu,price_range,aggregate_rating,rating_color,rating_text,votes]) #export the data in the required csv format\n",
    "                elif currency=='QR':#ensuring the path with the correct currency match\n",
    "                    qr=currency.replace('QR',\"Qatari Rial(QR)\")\n",
    "                    writer.writerow([res_id,name_res,country_id,city,address,locality,locality_verbose,longitude,latitude,cuisines,avg_cost,qr,has_table_booking,has_online_delivery,is_delivering_now,switch_to_order_menu,price_range,aggregate_rating,rating_color,rating_text,votes]) #export the data in the required csv format\n",
    "                elif currency=='R':#ensuring the path with the correct currency match\n",
    "                    r=currency.replace('R',\"Rand(R)\")\n",
    "                    writer.writerow([res_id,name_res,country_id,city,address,locality,locality_verbose,longitude,latitude,cuisines,avg_cost,r,has_table_booking,has_online_delivery,is_delivering_now,switch_to_order_menu,price_range,aggregate_rating,rating_color,rating_text,votes]) #export the data in the required csv format\n",
    "                elif currency=='R$':#ensuring the path with the correct currency match\n",
    "                    real=currency.replace('R$',\"Brazilian Real(R$)\")\n",
    "                    writer.writerow([res_id,name_res,country_id,city,address,locality,locality_verbose,longitude,latitude,cuisines,avg_cost,real,has_table_booking,has_online_delivery,is_delivering_now,switch_to_order_menu,price_range,aggregate_rating,rating_color,rating_text,votes]) #export the data in the required csv format\n",
    "                elif currency=='TL':#ensuring the path with the correct currency match\n",
    "                    tl=currency.replace('TL',\"Turkish Lira(TL)\")\n",
    "                    writer.writerow([res_id,name_res,country_id,city,address,locality,locality_verbose,longitude,latitude,cuisines,avg_cost,tl,has_table_booking,has_online_delivery,is_delivering_now,switch_to_order_menu,price_range,aggregate_rating,rating_color,rating_text,votes]) #export the data in the required csv format\n",
    "                       "
   ]
  },
  {
   "cell_type": "markdown",
   "metadata": {},
   "source": [
    "### Loading the csv as a Dataframe"
   ]
  },
  {
   "cell_type": "code",
   "execution_count": 304,
   "metadata": {
    "collapsed": false
   },
   "outputs": [
    {
     "data": {
      "text/html": [
       "<div>\n",
       "<table border=\"1\" class=\"dataframe\">\n",
       "  <thead>\n",
       "    <tr style=\"text-align: right;\">\n",
       "      <th></th>\n",
       "      <th>Restaurant ID</th>\n",
       "      <th>Restaurant Name</th>\n",
       "      <th>Country Code</th>\n",
       "      <th>City</th>\n",
       "      <th>Address</th>\n",
       "      <th>Locality</th>\n",
       "      <th>Locality Verbose</th>\n",
       "      <th>Longitude</th>\n",
       "      <th>Latitude</th>\n",
       "      <th>Cuisines</th>\n",
       "      <th>...</th>\n",
       "      <th>Currency</th>\n",
       "      <th>Has Table booking</th>\n",
       "      <th>Has Online delivery</th>\n",
       "      <th>Is delivering now</th>\n",
       "      <th>Switch to order menu</th>\n",
       "      <th>Price range</th>\n",
       "      <th>Aggregate rating</th>\n",
       "      <th>Rating color</th>\n",
       "      <th>Rating text</th>\n",
       "      <th>Votes</th>\n",
       "    </tr>\n",
       "  </thead>\n",
       "  <tbody>\n",
       "    <tr>\n",
       "      <th>0</th>\n",
       "      <td>6317637</td>\n",
       "      <td>Le Petit Souffle</td>\n",
       "      <td>162</td>\n",
       "      <td>Makati City</td>\n",
       "      <td>Third Floor, Century City Mall, Kalayaan Avenu...</td>\n",
       "      <td>Century City Mall, Poblacion, Makati City</td>\n",
       "      <td>Century City Mall, Poblacion, Makati City, Mak...</td>\n",
       "      <td>121.027535</td>\n",
       "      <td>14.565443</td>\n",
       "      <td>French, Japanese, Desserts</td>\n",
       "      <td>...</td>\n",
       "      <td>Botswana Pula(P)</td>\n",
       "      <td>Yes</td>\n",
       "      <td>No</td>\n",
       "      <td>No</td>\n",
       "      <td>No</td>\n",
       "      <td>3</td>\n",
       "      <td>4.8</td>\n",
       "      <td>Dark Green</td>\n",
       "      <td>Excellent</td>\n",
       "      <td>314</td>\n",
       "    </tr>\n",
       "    <tr>\n",
       "      <th>1</th>\n",
       "      <td>6304287</td>\n",
       "      <td>Izakaya Kikufuji</td>\n",
       "      <td>162</td>\n",
       "      <td>Makati City</td>\n",
       "      <td>Little Tokyo, 2277 Chino Roces Avenue, Legaspi...</td>\n",
       "      <td>Little Tokyo, Legaspi Village, Makati City</td>\n",
       "      <td>Little Tokyo, Legaspi Village, Makati City, Ma...</td>\n",
       "      <td>121.014101</td>\n",
       "      <td>14.553708</td>\n",
       "      <td>Japanese</td>\n",
       "      <td>...</td>\n",
       "      <td>Botswana Pula(P)</td>\n",
       "      <td>Yes</td>\n",
       "      <td>No</td>\n",
       "      <td>No</td>\n",
       "      <td>No</td>\n",
       "      <td>3</td>\n",
       "      <td>4.5</td>\n",
       "      <td>Dark Green</td>\n",
       "      <td>Excellent</td>\n",
       "      <td>591</td>\n",
       "    </tr>\n",
       "    <tr>\n",
       "      <th>2</th>\n",
       "      <td>6300002</td>\n",
       "      <td>Heat - Edsa Shangri-La</td>\n",
       "      <td>162</td>\n",
       "      <td>Mandaluyong City</td>\n",
       "      <td>Edsa Shangri-La, 1 Garden Way, Ortigas, Mandal...</td>\n",
       "      <td>Edsa Shangri-La, Ortigas, Mandaluyong City</td>\n",
       "      <td>Edsa Shangri-La, Ortigas, Mandaluyong City, Ma...</td>\n",
       "      <td>121.056831</td>\n",
       "      <td>14.581404</td>\n",
       "      <td>Seafood, Asian, Filipino, Indian</td>\n",
       "      <td>...</td>\n",
       "      <td>Botswana Pula(P)</td>\n",
       "      <td>Yes</td>\n",
       "      <td>No</td>\n",
       "      <td>No</td>\n",
       "      <td>No</td>\n",
       "      <td>4</td>\n",
       "      <td>4.4</td>\n",
       "      <td>Green</td>\n",
       "      <td>Very Good</td>\n",
       "      <td>270</td>\n",
       "    </tr>\n",
       "    <tr>\n",
       "      <th>3</th>\n",
       "      <td>6318506</td>\n",
       "      <td>Ooma</td>\n",
       "      <td>162</td>\n",
       "      <td>Mandaluyong City</td>\n",
       "      <td>Third Floor, Mega Fashion Hall, SM Megamall, O...</td>\n",
       "      <td>SM Megamall, Ortigas, Mandaluyong City</td>\n",
       "      <td>SM Megamall, Ortigas, Mandaluyong City, Mandal...</td>\n",
       "      <td>121.056475</td>\n",
       "      <td>14.585318</td>\n",
       "      <td>Japanese, Sushi</td>\n",
       "      <td>...</td>\n",
       "      <td>Botswana Pula(P)</td>\n",
       "      <td>No</td>\n",
       "      <td>No</td>\n",
       "      <td>No</td>\n",
       "      <td>No</td>\n",
       "      <td>4</td>\n",
       "      <td>4.9</td>\n",
       "      <td>Dark Green</td>\n",
       "      <td>Excellent</td>\n",
       "      <td>365</td>\n",
       "    </tr>\n",
       "    <tr>\n",
       "      <th>4</th>\n",
       "      <td>6314302</td>\n",
       "      <td>Sambo Kojin</td>\n",
       "      <td>162</td>\n",
       "      <td>Mandaluyong City</td>\n",
       "      <td>Third Floor, Mega Atrium, SM Megamall, Ortigas...</td>\n",
       "      <td>SM Megamall, Ortigas, Mandaluyong City</td>\n",
       "      <td>SM Megamall, Ortigas, Mandaluyong City, Mandal...</td>\n",
       "      <td>121.057508</td>\n",
       "      <td>14.584450</td>\n",
       "      <td>Japanese, Korean</td>\n",
       "      <td>...</td>\n",
       "      <td>Botswana Pula(P)</td>\n",
       "      <td>Yes</td>\n",
       "      <td>No</td>\n",
       "      <td>No</td>\n",
       "      <td>No</td>\n",
       "      <td>4</td>\n",
       "      <td>4.8</td>\n",
       "      <td>Dark Green</td>\n",
       "      <td>Excellent</td>\n",
       "      <td>229</td>\n",
       "    </tr>\n",
       "  </tbody>\n",
       "</table>\n",
       "<p>5 rows × 21 columns</p>\n",
       "</div>"
      ],
      "text/plain": [
       "   Restaurant ID         Restaurant Name  Country Code              City  \\\n",
       "0        6317637        Le Petit Souffle           162       Makati City   \n",
       "1        6304287        Izakaya Kikufuji           162       Makati City   \n",
       "2        6300002  Heat - Edsa Shangri-La           162  Mandaluyong City   \n",
       "3        6318506                    Ooma           162  Mandaluyong City   \n",
       "4        6314302             Sambo Kojin           162  Mandaluyong City   \n",
       "\n",
       "                                             Address  \\\n",
       "0  Third Floor, Century City Mall, Kalayaan Avenu...   \n",
       "1  Little Tokyo, 2277 Chino Roces Avenue, Legaspi...   \n",
       "2  Edsa Shangri-La, 1 Garden Way, Ortigas, Mandal...   \n",
       "3  Third Floor, Mega Fashion Hall, SM Megamall, O...   \n",
       "4  Third Floor, Mega Atrium, SM Megamall, Ortigas...   \n",
       "\n",
       "                                     Locality  \\\n",
       "0   Century City Mall, Poblacion, Makati City   \n",
       "1  Little Tokyo, Legaspi Village, Makati City   \n",
       "2  Edsa Shangri-La, Ortigas, Mandaluyong City   \n",
       "3      SM Megamall, Ortigas, Mandaluyong City   \n",
       "4      SM Megamall, Ortigas, Mandaluyong City   \n",
       "\n",
       "                                    Locality Verbose   Longitude   Latitude  \\\n",
       "0  Century City Mall, Poblacion, Makati City, Mak...  121.027535  14.565443   \n",
       "1  Little Tokyo, Legaspi Village, Makati City, Ma...  121.014101  14.553708   \n",
       "2  Edsa Shangri-La, Ortigas, Mandaluyong City, Ma...  121.056831  14.581404   \n",
       "3  SM Megamall, Ortigas, Mandaluyong City, Mandal...  121.056475  14.585318   \n",
       "4  SM Megamall, Ortigas, Mandaluyong City, Mandal...  121.057508  14.584450   \n",
       "\n",
       "                           Cuisines  ...           Currency Has Table booking  \\\n",
       "0        French, Japanese, Desserts  ...   Botswana Pula(P)               Yes   \n",
       "1                          Japanese  ...   Botswana Pula(P)               Yes   \n",
       "2  Seafood, Asian, Filipino, Indian  ...   Botswana Pula(P)               Yes   \n",
       "3                   Japanese, Sushi  ...   Botswana Pula(P)                No   \n",
       "4                  Japanese, Korean  ...   Botswana Pula(P)               Yes   \n",
       "\n",
       "  Has Online delivery Is delivering now Switch to order menu Price range  \\\n",
       "0                  No                No                   No           3   \n",
       "1                  No                No                   No           3   \n",
       "2                  No                No                   No           4   \n",
       "3                  No                No                   No           4   \n",
       "4                  No                No                   No           4   \n",
       "\n",
       "   Aggregate rating  Rating color Rating text Votes  \n",
       "0               4.8    Dark Green   Excellent   314  \n",
       "1               4.5    Dark Green   Excellent   591  \n",
       "2               4.4         Green   Very Good   270  \n",
       "3               4.9    Dark Green   Excellent   365  \n",
       "4               4.8    Dark Green   Excellent   229  \n",
       "\n",
       "[5 rows x 21 columns]"
      ]
     },
     "execution_count": 304,
     "metadata": {},
     "output_type": "execute_result"
    }
   ],
   "source": [
    "zomato=pd.read_csv('csv/zomato.csv',sep=',', encoding='latin-1') #read csv\n",
    "zomato.head()"
   ]
  },
  {
   "cell_type": "markdown",
   "metadata": {},
   "source": []
  }
 ],
 "metadata": {
  "anaconda-cloud": {},
  "kernelspec": {
   "display_name": "Python [conda root]",
   "language": "python",
   "name": "conda-root-py"
  },
  "language_info": {
   "codemirror_mode": {
    "name": "ipython",
    "version": 3
   },
   "file_extension": ".py",
   "mimetype": "text/x-python",
   "name": "python",
   "nbconvert_exporter": "python",
   "pygments_lexer": "ipython3",
   "version": "3.5.2"
  }
 },
 "nbformat": 4,
 "nbformat_minor": 1
}
