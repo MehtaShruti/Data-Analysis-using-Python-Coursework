{
 "cells": [
  {
   "cell_type": "markdown",
   "metadata": {},
   "source": [
    "# Question 6\n",
    "1. Under Inaugural Address package\n",
    "2. For every president, find out how many unique words they used in speech. \n",
    "3. We will just assume that President Bush means one person (technically it is incorrect but we will ignore it)\n"
   ]
  },
  {
   "cell_type": "markdown",
   "metadata": {},
   "source": [
    "1.For every president, find out how many unique words they used in speech."
   ]
  },
  {
   "cell_type": "code",
   "execution_count": 3,
   "metadata": {
    "collapsed": false
   },
   "outputs": [
    {
     "data": {
      "text/plain": [
       "['1789-Washington.txt',\n",
       " '1793-Washington.txt',\n",
       " '1797-Adams.txt',\n",
       " '1801-Jefferson.txt',\n",
       " '1805-Jefferson.txt',\n",
       " '1809-Madison.txt',\n",
       " '1813-Madison.txt',\n",
       " '1817-Monroe.txt',\n",
       " '1821-Monroe.txt',\n",
       " '1825-Adams.txt',\n",
       " '1829-Jackson.txt',\n",
       " '1833-Jackson.txt',\n",
       " '1837-VanBuren.txt',\n",
       " '1841-Harrison.txt',\n",
       " '1845-Polk.txt',\n",
       " '1849-Taylor.txt',\n",
       " '1853-Pierce.txt',\n",
       " '1857-Buchanan.txt',\n",
       " '1861-Lincoln.txt',\n",
       " '1865-Lincoln.txt',\n",
       " '1869-Grant.txt',\n",
       " '1873-Grant.txt',\n",
       " '1877-Hayes.txt',\n",
       " '1881-Garfield.txt',\n",
       " '1885-Cleveland.txt',\n",
       " '1889-Harrison.txt',\n",
       " '1893-Cleveland.txt',\n",
       " '1897-McKinley.txt',\n",
       " '1901-McKinley.txt',\n",
       " '1905-Roosevelt.txt',\n",
       " '1909-Taft.txt',\n",
       " '1913-Wilson.txt',\n",
       " '1917-Wilson.txt',\n",
       " '1921-Harding.txt',\n",
       " '1925-Coolidge.txt',\n",
       " '1929-Hoover.txt',\n",
       " '1933-Roosevelt.txt',\n",
       " '1937-Roosevelt.txt',\n",
       " '1941-Roosevelt.txt',\n",
       " '1945-Roosevelt.txt',\n",
       " '1949-Truman.txt',\n",
       " '1953-Eisenhower.txt',\n",
       " '1957-Eisenhower.txt',\n",
       " '1961-Kennedy.txt',\n",
       " '1965-Johnson.txt',\n",
       " '1969-Nixon.txt',\n",
       " '1973-Nixon.txt',\n",
       " '1977-Carter.txt',\n",
       " '1981-Reagan.txt',\n",
       " '1985-Reagan.txt',\n",
       " '1989-Bush.txt',\n",
       " '1993-Clinton.txt',\n",
       " '1997-Clinton.txt',\n",
       " '2001-Bush.txt',\n",
       " '2005-Bush.txt',\n",
       " '2009-Obama.txt']"
      ]
     },
     "execution_count": 3,
     "metadata": {},
     "output_type": "execute_result"
    }
   ],
   "source": [
    "# import packages\n",
    "import nltk\n",
    "from nltk.corpus import inaugural\n",
    "file=inaugural.fileids()\n",
    "file\n"
   ]
  },
  {
   "cell_type": "code",
   "execution_count": 4,
   "metadata": {
    "collapsed": false
   },
   "outputs": [
    {
     "data": {
      "text/plain": [
       "236736"
      ]
     },
     "execution_count": 4,
     "metadata": {},
     "output_type": "execute_result"
    }
   ],
   "source": [
    "NormalWords=nltk.corpus.words.words()\n",
    "len(NormalWords) "
   ]
  },
  {
   "cell_type": "code",
   "execution_count": 38,
   "metadata": {
    "collapsed": false
   },
   "outputs": [
    {
     "name": "stdout",
     "output_type": "stream",
     "text": [
      "Words spoken by each president are below:\n",
      " \n",
      " {'Reagan': 1831, 'Buchanan': 948, 'Harrison': 3251, 'Johnson': 571, 'Taft': 1439, 'Nixon': 1288, 'Taylor': 499, 'Jefferson': 1523, 'Wilson': 1210, 'Washington': 724, 'Pierce': 1168, 'Bush': 2198, 'Lincoln': 1441, 'Hayes': 832, 'Monroe': 2306, 'Garfield': 1022, 'McKinley': 2099, 'Adams': 1835, 'Coolidge': 1221, 'Harding': 1170, 'Hoover': 1087, 'Carter': 529, 'Eisenhower': 1521, 'VanBuren': 1318, 'Kennedy': 570, 'Madison': 1079, 'Polk': 1333, 'Jackson': 1019, 'Clinton': 1417, 'Truman': 781, 'Cleveland': 1496, 'Grant': 1042, 'Obama': 938, 'Roosevelt': 2690}\n"
     ]
    }
   ],
   "source": [
    "# calculating the unique words in every President's speech\n",
    "Words_President={}\n",
    "for x in file:\n",
    "    if x[5:-4] in Words_President:\n",
    "        total_words=inaugural.words(x)\n",
    "        unique_words=set(total_words)\n",
    "        unique_word_count=len(unique_words) #calculating unique words of president\n",
    "        Words_President[x[5:-4]]+=unique_word_count\n",
    "    else:\n",
    "        total_words=inaugural.words(x)\n",
    "        unique_words=set(total_words)\n",
    "        unique_word_count=len(unique_words)\n",
    "        Words_President[x[5:-4]]=unique_word_count\n",
    "\n",
    "print(\"Words spoken by each president are below:\\n\",\"\\n\",Words_President)"
   ]
  },
  {
   "cell_type": "code",
   "execution_count": null,
   "metadata": {
    "collapsed": true
   },
   "outputs": [],
   "source": []
  }
 ],
 "metadata": {
  "anaconda-cloud": {},
  "kernelspec": {
   "display_name": "Python [conda root]",
   "language": "python",
   "name": "conda-root-py"
  },
  "language_info": {
   "codemirror_mode": {
    "name": "ipython",
    "version": 3
   },
   "file_extension": ".py",
   "mimetype": "text/x-python",
   "name": "python",
   "nbconvert_exporter": "python",
   "pygments_lexer": "ipython3",
   "version": "3.5.2"
  }
 },
 "nbformat": 4,
 "nbformat_minor": 1
}
