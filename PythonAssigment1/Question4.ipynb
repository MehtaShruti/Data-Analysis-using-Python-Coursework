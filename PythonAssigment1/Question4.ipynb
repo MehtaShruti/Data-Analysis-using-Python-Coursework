{
 "cells": [
  {
   "cell_type": "markdown",
   "metadata": {},
   "source": [
    "# Question 4\n",
    "1. Under package nps_chat, see what files are in it.\n",
    "2. Find 'user121' and see how many posts he posted in all.\n",
    "3. Find out how many unique user in each age range group. (20s, 30s,...)(Hint: files' name)\n"
   ]
  },
  {
   "cell_type": "markdown",
   "metadata": {},
   "source": [
    "1. Under package nps_chat, see what files are in it."
   ]
  },
  {
   "cell_type": "code",
   "execution_count": 14,
   "metadata": {
    "collapsed": true
   },
   "outputs": [],
   "source": [
    "import nltk"
   ]
  },
  {
   "cell_type": "code",
   "execution_count": 15,
   "metadata": {
    "collapsed": true
   },
   "outputs": [],
   "source": [
    "from nltk.corpus import nps_chat"
   ]
  },
  {
   "cell_type": "code",
   "execution_count": 16,
   "metadata": {
    "collapsed": false
   },
   "outputs": [
    {
     "data": {
      "text/plain": [
       "['10-19-20s_706posts.xml',\n",
       " '10-19-30s_705posts.xml',\n",
       " '10-19-40s_686posts.xml',\n",
       " '10-19-adults_706posts.xml',\n",
       " '10-24-40s_706posts.xml',\n",
       " '10-26-teens_706posts.xml',\n",
       " '11-06-adults_706posts.xml',\n",
       " '11-08-20s_705posts.xml',\n",
       " '11-08-40s_706posts.xml',\n",
       " '11-08-adults_705posts.xml',\n",
       " '11-08-teens_706posts.xml',\n",
       " '11-09-20s_706posts.xml',\n",
       " '11-09-40s_706posts.xml',\n",
       " '11-09-adults_706posts.xml',\n",
       " '11-09-teens_706posts.xml']"
      ]
     },
     "execution_count": 16,
     "metadata": {},
     "output_type": "execute_result"
    }
   ],
   "source": [
    "file=nltk.corpus.nps_chat.fileids()\n",
    "file"
   ]
  },
  {
   "cell_type": "markdown",
   "metadata": {},
   "source": [
    "2. Find 'user121' and see how many posts he posted in all.\n"
   ]
  },
  {
   "cell_type": "code",
   "execution_count": 23,
   "metadata": {
    "collapsed": false,
    "scrolled": true
   },
   "outputs": [
    {
     "name": "stdout",
     "output_type": "stream",
     "text": [
      "The number of posts by User121 are: 132\n"
     ]
    }
   ],
   "source": [
    "#Number of posts  made by User121\n",
    "number_of_posts=0\n",
    "posts=nps_chat.xml_posts()\n",
    "for post in posts:\n",
    "    if post.get(\"user\").endswith('User121'): # get the posts by user 121\n",
    "        number_of_posts+=1\n",
    "print('The number of posts by User121 are:',number_of_posts )"
   ]
  },
  {
   "cell_type": "markdown",
   "metadata": {
    "collapsed": false
   },
   "source": [
    "Find out how many unique user in each age range group. (20s, 30s,...)(Hint: files' name)"
   ]
  },
  {
   "cell_type": "code",
   "execution_count": 30,
   "metadata": {
    "collapsed": false
   },
   "outputs": [
    {
     "name": "stdout",
     "output_type": "stream",
     "text": [
      "Number of unique user in each age group are:\n",
      "Teens: 206 \n",
      "adults: 0 \n",
      "user in 20s: 162 \n",
      "user in 30s: 44 \n",
      "user in 40s: 80\n"
     ]
    }
   ],
   "source": [
    "teens_user=[]\n",
    "adult_user=[]\n",
    "user20s=[]\n",
    "user30s=[]\n",
    "user40s=[]\n",
    "\n",
    "for post in posts:\n",
    "    if \"20sUser\" in post.get(\"user\"): # check the post of age group 20s\n",
    "        username=post.get(\"user\")[6:]\n",
    "        user20s.append(username)\n",
    "    elif \"30sUser\" in post.get(\"user\"):# check the post of age group 30s\n",
    "        username=post.get(\"user\")[6:]\n",
    "        user30s.append(username)\n",
    "    elif \"40sUser\" in post.get(\"user\"): # check the post of age group 40s\n",
    "        username=post.get(\"user\")[6:]\n",
    "        user40s.append(username)\n",
    "    elif \"adultUser\" in post.get(\"user\"): # check the post of age group adult user\n",
    "        username=post.get(\"user\")[6:]\n",
    "        adult_user.append(username)\n",
    "    elif \"teensUser\" in post.get(\"user\"): # check the post of age group teens user\n",
    "        username=post.get(\"user\")[6:]\n",
    "        teens_user.append(username)\n",
    "print(\"Number of unique user in each age group are:\")     \n",
    "print(\"Teens:\",len(set(teens_user)),\"\\nadults:\",len(set(adult_user))\n",
    "      ,\"\\nuser in 20s:\",len(set(user20s)),\"\\nuser in 30s:\",len(set(user30s)),\"\\nuser in 40s:\",len(set(user40s)))        "
   ]
  },
  {
   "cell_type": "code",
   "execution_count": null,
   "metadata": {
    "collapsed": true
   },
   "outputs": [],
   "source": []
  },
  {
   "cell_type": "code",
   "execution_count": null,
   "metadata": {
    "collapsed": true
   },
   "outputs": [],
   "source": []
  }
 ],
 "metadata": {
  "anaconda-cloud": {},
  "kernelspec": {
   "display_name": "Python [conda root]",
   "language": "python",
   "name": "conda-root-py"
  },
  "language_info": {
   "codemirror_mode": {
    "name": "ipython",
    "version": 3
   },
   "file_extension": ".py",
   "mimetype": "text/x-python",
   "name": "python",
   "nbconvert_exporter": "python",
   "pygments_lexer": "ipython3",
   "version": "3.5.2"
  }
 },
 "nbformat": 4,
 "nbformat_minor": 1
}
