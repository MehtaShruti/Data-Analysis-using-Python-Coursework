{
 "cells": [
  {
   "cell_type": "markdown",
   "metadata": {},
   "source": [
    "# Question 7\n",
    "1. Use Name corpus, calculate the probability of a name being of a male or female base on the last character(s) of name.\n",
    "2. Sample steps:\n",
    "3. For char ‘a’:\n",
    "\ttotal_names = sum(names ending with ‘a’)\n",
    "\tmale_names = sum(male names ending with ‘a’)\n",
    "\tfemale_names = sum(female names ending with ‘a’)\n",
    "\tProbability of name being male = 100 * male_names / total_names\n",
    "4. Do this for all characters. \n",
    "5. Output must come with proper title (e.g. [a] male: 25%, female: 60%)\n"
   ]
  },
  {
   "cell_type": "code",
   "execution_count": 43,
   "metadata": {
    "collapsed": true
   },
   "outputs": [],
   "source": [
    "import nltk"
   ]
  },
  {
   "cell_type": "code",
   "execution_count": 44,
   "metadata": {
    "collapsed": false
   },
   "outputs": [],
   "source": [
    "# nltk and string import\n",
    "from nltk.corpus import names\n",
    "from string import ascii_lowercase"
   ]
  },
  {
   "cell_type": "code",
   "execution_count": 45,
   "metadata": {
    "collapsed": false
   },
   "outputs": [
    {
     "data": {
      "text/plain": [
       "['female.txt', 'male.txt']"
      ]
     },
     "execution_count": 45,
     "metadata": {},
     "output_type": "execute_result"
    }
   ],
   "source": [
    "file=names.fileids() # get the fileids\n",
    "file"
   ]
  },
  {
   "cell_type": "code",
   "execution_count": 48,
   "metadata": {
    "collapsed": false
   },
   "outputs": [],
   "source": [
    "total_names=nltk.corpus.names.words()\n",
    "females_names=nltk.corpus.names.words('female.txt')\n",
    "males_names=nltk.corpus.names.words('male.txt')"
   ]
  },
  {
   "cell_type": "code",
   "execution_count": 61,
   "metadata": {
    "collapsed": false
   },
   "outputs": [
    {
     "name": "stdout",
     "output_type": "stream",
     "text": [
      "[ a ] male: 1.609322974472808 % , female 98.3906770255272 %\n",
      "[ b ] male: 70.0 % , female 30.0 %\n",
      "[ c ] male: 100.0 % , female 0.0 %\n",
      "[ d ] male: 85.3932584269663 % , female 14.606741573033707 %\n",
      "[ e ] male: 24.63157894736842 % , female 75.36842105263158 %\n",
      "[ f ] male: 92.5925925925926 % , female 7.407407407407407 %\n",
      "[ g ] male: 76.19047619047619 % , female 23.80952380952381 %\n",
      "[ h ] male: 46.96969696969697 % , female 53.03030303030303 %\n",
      "[ i ] male: 13.623978201634877 % , female 86.37602179836512 %\n",
      "[ j ] male: 75.0 % , female 25.0 %\n",
      "[ k ] male: 95.83333333333333 % , female 4.166666666666667 %\n",
      "[ l ] male: 51.09289617486339 % , female 48.90710382513661 %\n",
      "[ m ] male: 84.33734939759036 % , female 15.662650602409638 %\n",
      "[ n ] male: 55.324074074074076 % , female 44.675925925925924 %\n",
      "[ o ] male: 83.33333333333333 % , female 16.666666666666668 %\n",
      "[ p ] male: 90.0 % , female 10.0 %\n",
      "There are no names as such\n",
      "[ r ] male: 80.16877637130801 % , female 19.831223628691983 %\n",
      "[ s ] male: 71.20743034055728 % , female 28.792569659442723 %\n",
      "[ t ] male: 70.6896551724138 % , female 29.310344827586206 %\n",
      "[ u ] male: 66.66666666666667 % , female 33.333333333333336 %\n",
      "[ v ] male: 88.88888888888889 % , female 11.11111111111111 %\n",
      "[ w ] male: 77.27272727272727 % , female 22.727272727272727 %\n",
      "[ x ] male: 50.0 % , female 50.0 %\n",
      "[ y ] male: 41.86633039092055 % , female 58.13366960907945 %\n",
      "[ z ] male: 73.33333333333333 % , female 26.666666666666668 %\n"
     ]
    }
   ],
   "source": [
    "char=()  \n",
    "for x in range(26):\n",
    "    try:\n",
    "        char=ascii_lowercase[x] # getting the characters from lowercase into char\n",
    "        total=[x for x in total_names if x.endswith(char)] # check the names for the char\n",
    "        males=[x for x in males_names if x.endswith(char)]\n",
    "        females=[x for x in females_names if x.endswith(char)]\n",
    "        male=100*len(males)/len(total)#calculate probability\n",
    "        female=100*len(females)/len(total) #calculate probability\n",
    "        print('[',char,']',\"male:\",male,'%',',',\"female\",female,'%')\n",
    "    except ZeroDivisionError:\n",
    "        print(\"There are no names as such\")\n",
    "        "
   ]
  }
 ],
 "metadata": {
  "kernelspec": {
   "display_name": "Python [conda root]",
   "language": "python",
   "name": "conda-root-py"
  },
  "language_info": {
   "codemirror_mode": {
    "name": "ipython",
    "version": 3
   },
   "file_extension": ".py",
   "mimetype": "text/x-python",
   "name": "python",
   "nbconvert_exporter": "python",
   "pygments_lexer": "ipython3",
   "version": "3.5.2"
  }
 },
 "nbformat": 4,
 "nbformat_minor": 1
}
