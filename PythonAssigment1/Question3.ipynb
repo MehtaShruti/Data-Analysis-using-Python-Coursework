{
 "cells": [
  {
   "cell_type": "markdown",
   "metadata": {},
   "source": [
    "# Question 3\n",
    "1. Under package Webtext, see what files are in it.\n",
    "2. Get content in file 'pirates.txt'.\n",
    "3. According to the number of lines for Jack Sparrow and Will Turner, find out who is the real leading man in this movie.\n"
   ]
  },
  {
   "cell_type": "markdown",
   "metadata": {},
   "source": [
    "1. Under package Webtext, see what files are in it."
   ]
  },
  {
   "cell_type": "code",
   "execution_count": 2,
   "metadata": {
    "collapsed": true
   },
   "outputs": [],
   "source": [
    "import nltk"
   ]
  },
  {
   "cell_type": "code",
   "execution_count": 3,
   "metadata": {
    "collapsed": false
   },
   "outputs": [],
   "source": [
    "from nltk.corpus import webtext"
   ]
  },
  {
   "cell_type": "code",
   "execution_count": 4,
   "metadata": {
    "collapsed": false
   },
   "outputs": [
    {
     "data": {
      "text/plain": [
       "['firefox.txt',\n",
       " 'grail.txt',\n",
       " 'overheard.txt',\n",
       " 'pirates.txt',\n",
       " 'singles.txt',\n",
       " 'wine.txt']"
      ]
     },
     "execution_count": 4,
     "metadata": {},
     "output_type": "execute_result"
    }
   ],
   "source": [
    "nltk.corpus.webtext.fileids() #displaying the fileids using the webtext corpus"
   ]
  },
  {
   "cell_type": "markdown",
   "metadata": {},
   "source": [
    "2. Get content in file 'pirates.txt'."
   ]
  },
  {
   "cell_type": "code",
   "execution_count": 5,
   "metadata": {
    "collapsed": false
   },
   "outputs": [
    {
     "name": "stdout",
     "output_type": "stream",
     "text": [
      "PIRATES OF THE CARRIBEAN: DEAD MAN'S CHEST, by Ted Elliott & Terry Rossio\n",
      "[view looking straight dow\n"
     ]
    }
   ],
   "source": [
    "pirates_content=nltk.corpus.webtext.raw('pirates.txt') #displaying the raw text\n",
    "print(pirates_content[:100])"
   ]
  },
  {
   "cell_type": "markdown",
   "metadata": {},
   "source": [
    "3. According to the number of lines for Jack Sparrow and Will Turner, find out who is the real leading man in this movie."
   ]
  },
  {
   "cell_type": "code",
   "execution_count": 6,
   "metadata": {
    "collapsed": false
   },
   "outputs": [
    {
     "name": "stdout",
     "output_type": "stream",
     "text": [
      "Lines by Jack Sparrow: 193 \n",
      "\n",
      "Lines by Will Turner: 133\n",
      "\n",
      "From the number of lines, I can see that, 'Jack Sparrow is the leading man in the movie'\n"
     ]
    }
   ],
   "source": [
    "count_Jack=pirates_content.count('JACK SPARROW:') #count for Jack Sparrow \n",
    "count_Turner=pirates_content.count('WILL TURNER:')# count for Will Turner\n",
    "print(\"Lines by Jack Sparrow:\",count_Jack,\"\\n\\nLines by Will Turner:\",count_Turner)\n",
    "if count_Jack>count_Turner:\n",
    "     print(\"\\nFrom the number of lines, I can see that, 'Jack Sparrow is the leading man in the movie'\")\n",
    "else:\n",
    "     print(\"\\nFrom the number of lines, I can see that, 'Will Turner is the leading man in the movie'\")"
   ]
  },
  {
   "cell_type": "code",
   "execution_count": null,
   "metadata": {
    "collapsed": true
   },
   "outputs": [],
   "source": []
  }
 ],
 "metadata": {
  "anaconda-cloud": {},
  "kernelspec": {
   "display_name": "Python [conda root]",
   "language": "python",
   "name": "conda-root-py"
  },
  "language_info": {
   "codemirror_mode": {
    "name": "ipython",
    "version": 3
   },
   "file_extension": ".py",
   "mimetype": "text/x-python",
   "name": "python",
   "nbconvert_exporter": "python",
   "pygments_lexer": "ipython3",
   "version": "3.5.2"
  }
 },
 "nbformat": 4,
 "nbformat_minor": 1
}
